{
 "cells": [
  {
   "cell_type": "markdown",
   "id": "a873491e",
   "metadata": {},
   "source": [
    "<h1> Норвегія</h1>\n",
    "\n",
    "<h2> Інформація </h2>\n",
    "\n",
    "- **Площа:** <span style='color: blue'>385 207 </span>км²\n",
    "- **Населення:** <span style='color: blue'>5,408</span> млн осіб ( станом на 2020 рік )\n",
    "- **Державний устрій:** парламентська конституційна монархія унітарного устрою\n",
    "- **Видатні персоналії:** \n",
    "    - ><i>Уле-Ейнар Б'єрндален</i> - видатний норвезький біатлоніст і лижник\n",
    "    - ><i>Генрік Ібсен</i> - норвезький драматург\n",
    "    - ><i>Сігрід Унсет</i> - норвезька письменниця, лауреат Нобелівської премії 1928 року\n",
    "- **Пам'ятки культури та природи:**\n",
    "    - <a href='https://ru.wikipedia.org/wiki/%D0%93%D0%B5%D0%B9%D1%80%D0%B0%D0%BD%D0%B3%D0%B5%D1%80-%D1%84%D1%8C%D0%BE%D1%80%D0%B4'>Гейрангерфіорд</a> і <a href='https://uk.wikipedia.org/wiki/%D0%9D%D0%B5%D1%80%D0%B5%D0%B9%D1%84%D1%96%D0%BE%D1%80%D0%B4'>Нерейфіорд</a> (фіорди Західної Норвегії)\n",
    "    - <a href='https://uk.wikipedia.org/wiki/%D0%9D%D0%B0%D1%81%D0%BA%D0%B5%D0%BB%D1%8C%D0%BD%D1%96_%D0%BC%D0%B0%D0%BB%D1%8E%D0%BD%D0%BA%D0%B8_%D0%B2_%D0%90%D0%BB%D1%8C%D1%82%D1%96'> Наскельні малюнки в Альті </a>\n",
    "    \n",
    "<h2> Флаг Норвегії </h2>\n",
    "\n",
    "<img src=\"data:image/svg+xml;utf8, \n",
    "          <svg xmlns='http://www.w3.org/2000/svg' width='200' height='145'>\n",
    "          <rect width='200' height='145' fill='red'/>\n",
    "          <rect x='0' y='62.5' width='200' height='20' fill='white'/>\n",
    "          <rect x='62.5' y='0' width='20' height='145' fill='white'/>\n",
    "          <rect x='0' y='67.5' width='200' height='10' fill='navy'/>\n",
    "          <rect x='67.5' y='0' width='10' height='145' fill='navy'/>\n",
    "          </svg>\" \n",
    "     /> "
   ]
  },
  {
   "cell_type": "code",
   "execution_count": 49,
   "id": "5c811021",
   "metadata": {},
   "outputs": [],
   "source": [
    "def task_10(N):\n",
    "    if not isinstance(N, int):\n",
    "        print('Надане значення не є числом')\n",
    "        return\n",
    "    for a in range(1, int(N**0.5) + 1):\n",
    "        b = (N - a**2)**0.5\n",
    "        if b.is_integer():\n",
    "            print(f'{a}^2 + {int(b)}^2 = {N}')\n",
    "            return\n",
    "    print(f'Не знайдено таких чисел a і b, що a^2 + b^2 = {N}')\n",
    "    return"
   ]
  },
  {
   "cell_type": "code",
   "execution_count": 50,
   "id": "671d1903",
   "metadata": {},
   "outputs": [
    {
     "name": "stdout",
     "output_type": "stream",
     "text": [
      "2^2 + 3^2 = 13\n"
     ]
    }
   ],
   "source": [
    "task_10(13)"
   ]
  },
  {
   "cell_type": "code",
   "execution_count": 51,
   "id": "f7ec1fd1",
   "metadata": {},
   "outputs": [
    {
     "name": "stdout",
     "output_type": "stream",
     "text": [
      "Не знайдено таких чисел a і b, що a^2 + b^2 = 3\n"
     ]
    }
   ],
   "source": [
    "task_10(3)"
   ]
  },
  {
   "cell_type": "code",
   "execution_count": 52,
   "id": "4aff6e57",
   "metadata": {},
   "outputs": [
    {
     "name": "stdout",
     "output_type": "stream",
     "text": [
      "3^2 + 4^2 = 25\n"
     ]
    }
   ],
   "source": [
    "task_10(25)"
   ]
  },
  {
   "cell_type": "code",
   "execution_count": 53,
   "id": "89094037",
   "metadata": {},
   "outputs": [
    {
     "name": "stdout",
     "output_type": "stream",
     "text": [
      "Не знайдено таких чисел a і b, що a^2 + b^2 = 24\n"
     ]
    }
   ],
   "source": [
    "task_10(24)"
   ]
  },
  {
   "cell_type": "code",
   "execution_count": 54,
   "id": "7c6b050a",
   "metadata": {},
   "outputs": [
    {
     "name": "stdout",
     "output_type": "stream",
     "text": [
      "Надане значення не є числом\n"
     ]
    }
   ],
   "source": [
    "task_10(\"D\")"
   ]
  }
 ],
 "metadata": {
  "kernelspec": {
   "display_name": "Python 3 (ipykernel)",
   "language": "python",
   "name": "python3"
  },
  "language_info": {
   "codemirror_mode": {
    "name": "ipython",
    "version": 3
   },
   "file_extension": ".py",
   "mimetype": "text/x-python",
   "name": "python",
   "nbconvert_exporter": "python",
   "pygments_lexer": "ipython3",
   "version": "3.11.5"
  }
 },
 "nbformat": 4,
 "nbformat_minor": 5
}
